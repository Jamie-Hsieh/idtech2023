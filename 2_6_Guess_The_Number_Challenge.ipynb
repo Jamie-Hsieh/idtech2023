{
  "nbformat": 4,
  "nbformat_minor": 0,
  "metadata": {
    "colab": {
      "name": "2.6_Guess_The_Number_Challenge.ipynb",
      "provenance": [],
      "include_colab_link": true
    },
    "kernelspec": {
      "name": "python3",
      "display_name": "Python 3"
    },
    "language_info": {
      "name": "python"
    }
  },
  "cells": [
    {
      "cell_type": "markdown",
      "metadata": {
        "id": "view-in-github",
        "colab_type": "text"
      },
      "source": [
        "<a href=\"https://colab.research.google.com/github/Jamie-Hsieh/idtech2023/blob/main/2_6_Guess_The_Number_Challenge.ipynb\" target=\"_parent\"><img src=\"https://colab.research.google.com/assets/colab-badge.svg\" alt=\"Open In Colab\"/></a>"
      ]
    },
    {
      "cell_type": "markdown",
      "metadata": {
        "id": "E1BtiRZFTl8b"
      },
      "source": [
        "#Number Guessing Game\n",
        "\n",
        "In this notebook you are challenged to use your knowledge of loops, conditionals, input, random numbers, and printing to create a number guessing game.\n",
        "\n",
        "In this challenge, you'll be making a guess the number game. Your program will generate a random number and then ask the user to guess what it is.\n",
        "\n",
        "When they guess wrong, your program will tell them if they are too high or too low.\n",
        "\n",
        "###Core Freatures Breakdown\n",
        "- Generate a random number between 1 and 100.\n",
        "\n",
        "- Let the user guess what the number is until they get it right.\n",
        "\n",
        "- Give the user feedback after each guess- tell them if their guess is too high, too low, or just right.\n",
        "\n",
        "- Begin the game again.\n"
      ]
    },
    {
      "cell_type": "code",
      "metadata": {
        "id": "-j0-ot-5TlKw",
        "colab": {
          "base_uri": "https://localhost:8080/",
          "height": 467
        },
        "outputId": "da1c31be-6f59-4186-955a-68fbc7e5ea68"
      },
      "source": [
        "# Add your code here:\n",
        "import random\n",
        "print(\"Guess the number challenge!\")\n",
        "\n",
        "def runGame():\n",
        "  theNumber = random.randint(1, 100)\n",
        "  deathNumber = random.randint(1, 100)\n",
        "  while deathNumber == theNumber:\n",
        "    deathNumber = random.randint(1, 100)\n",
        "  print(\"death number:\" + str(deathNumber))\n",
        "  guessed = False\n",
        "  while guessed == False:\n",
        "    currGuess = input(\"guess the number!\\n\")\n",
        "    if int(currGuess) == deathNumber:\n",
        "      print(\"you died. RIP bozo\")\n",
        "      break\n",
        "    elif int(currGuess) == theNumber:\n",
        "      print(\"That is correct!\")\n",
        "      guessed = True\n",
        "    elif int(currGuess) > theNumber:\n",
        "      print(\"Your guess is too high!\")\n",
        "    else:\n",
        "      print(\"Your guess is too low\")\n",
        "\n",
        "runGame()\n",
        "response = input(\"Do you want to play again? (y/n)\")\n",
        "if response == \"y\":\n",
        "  runGame()\n",
        "else:\n",
        "  print(\"goodbye!\")\n"
      ],
      "execution_count": 9,
      "outputs": [
        {
          "output_type": "stream",
          "name": "stdout",
          "text": [
            "Guess the number challenge!\n",
            "death number:70\n",
            "guess the number!\n",
            "70\n",
            "you died. RIP bozo\n"
          ]
        },
        {
          "output_type": "error",
          "ename": "KeyboardInterrupt",
          "evalue": "ignored",
          "traceback": [
            "\u001b[0;31m---------------------------------------------------------------------------\u001b[0m",
            "\u001b[0;31mKeyboardInterrupt\u001b[0m                         Traceback (most recent call last)",
            "\u001b[0;32m<ipython-input-9-4437fbd4a2d0>\u001b[0m in \u001b[0;36m<cell line: 26>\u001b[0;34m()\u001b[0m\n\u001b[1;32m     24\u001b[0m \u001b[0;34m\u001b[0m\u001b[0m\n\u001b[1;32m     25\u001b[0m \u001b[0mrunGame\u001b[0m\u001b[0;34m(\u001b[0m\u001b[0;34m)\u001b[0m\u001b[0;34m\u001b[0m\u001b[0;34m\u001b[0m\u001b[0m\n\u001b[0;32m---> 26\u001b[0;31m \u001b[0mresponse\u001b[0m \u001b[0;34m=\u001b[0m \u001b[0minput\u001b[0m\u001b[0;34m(\u001b[0m\u001b[0;34m\"Do you want to play again? (y/n)\"\u001b[0m\u001b[0;34m)\u001b[0m\u001b[0;34m\u001b[0m\u001b[0;34m\u001b[0m\u001b[0m\n\u001b[0m\u001b[1;32m     27\u001b[0m \u001b[0;32mif\u001b[0m \u001b[0mresponse\u001b[0m \u001b[0;34m==\u001b[0m \u001b[0;34m\"y\"\u001b[0m\u001b[0;34m:\u001b[0m\u001b[0;34m\u001b[0m\u001b[0;34m\u001b[0m\u001b[0m\n\u001b[1;32m     28\u001b[0m   \u001b[0mrunGame\u001b[0m\u001b[0;34m(\u001b[0m\u001b[0;34m)\u001b[0m\u001b[0;34m\u001b[0m\u001b[0;34m\u001b[0m\u001b[0m\n",
            "\u001b[0;32m/usr/local/lib/python3.10/dist-packages/ipykernel/kernelbase.py\u001b[0m in \u001b[0;36mraw_input\u001b[0;34m(self, prompt)\u001b[0m\n\u001b[1;32m    849\u001b[0m                 \u001b[0;34m\"raw_input was called, but this frontend does not support input requests.\"\u001b[0m\u001b[0;34m\u001b[0m\u001b[0;34m\u001b[0m\u001b[0m\n\u001b[1;32m    850\u001b[0m             )\n\u001b[0;32m--> 851\u001b[0;31m         return self._input_request(str(prompt),\n\u001b[0m\u001b[1;32m    852\u001b[0m             \u001b[0mself\u001b[0m\u001b[0;34m.\u001b[0m\u001b[0m_parent_ident\u001b[0m\u001b[0;34m,\u001b[0m\u001b[0;34m\u001b[0m\u001b[0;34m\u001b[0m\u001b[0m\n\u001b[1;32m    853\u001b[0m             \u001b[0mself\u001b[0m\u001b[0;34m.\u001b[0m\u001b[0m_parent_header\u001b[0m\u001b[0;34m,\u001b[0m\u001b[0;34m\u001b[0m\u001b[0;34m\u001b[0m\u001b[0m\n",
            "\u001b[0;32m/usr/local/lib/python3.10/dist-packages/ipykernel/kernelbase.py\u001b[0m in \u001b[0;36m_input_request\u001b[0;34m(self, prompt, ident, parent, password)\u001b[0m\n\u001b[1;32m    893\u001b[0m             \u001b[0;32mexcept\u001b[0m \u001b[0mKeyboardInterrupt\u001b[0m\u001b[0;34m:\u001b[0m\u001b[0;34m\u001b[0m\u001b[0;34m\u001b[0m\u001b[0m\n\u001b[1;32m    894\u001b[0m                 \u001b[0;31m# re-raise KeyboardInterrupt, to truncate traceback\u001b[0m\u001b[0;34m\u001b[0m\u001b[0;34m\u001b[0m\u001b[0m\n\u001b[0;32m--> 895\u001b[0;31m                 \u001b[0;32mraise\u001b[0m \u001b[0mKeyboardInterrupt\u001b[0m\u001b[0;34m(\u001b[0m\u001b[0;34m\"Interrupted by user\"\u001b[0m\u001b[0;34m)\u001b[0m \u001b[0;32mfrom\u001b[0m \u001b[0;32mNone\u001b[0m\u001b[0;34m\u001b[0m\u001b[0;34m\u001b[0m\u001b[0m\n\u001b[0m\u001b[1;32m    896\u001b[0m             \u001b[0;32mexcept\u001b[0m \u001b[0mException\u001b[0m \u001b[0;32mas\u001b[0m \u001b[0me\u001b[0m\u001b[0;34m:\u001b[0m\u001b[0;34m\u001b[0m\u001b[0;34m\u001b[0m\u001b[0m\n\u001b[1;32m    897\u001b[0m                 \u001b[0mself\u001b[0m\u001b[0;34m.\u001b[0m\u001b[0mlog\u001b[0m\u001b[0;34m.\u001b[0m\u001b[0mwarning\u001b[0m\u001b[0;34m(\u001b[0m\u001b[0;34m\"Invalid Message:\"\u001b[0m\u001b[0;34m,\u001b[0m \u001b[0mexc_info\u001b[0m\u001b[0;34m=\u001b[0m\u001b[0;32mTrue\u001b[0m\u001b[0;34m)\u001b[0m\u001b[0;34m\u001b[0m\u001b[0;34m\u001b[0m\u001b[0m\n",
            "\u001b[0;31mKeyboardInterrupt\u001b[0m: Interrupted by user"
          ]
        }
      ]
    },
    {
      "cell_type": "markdown",
      "metadata": {
        "id": "ogeubfG_UYxb"
      },
      "source": [
        "###Bonus Features\n",
        "\n",
        "- Create a variable to keep track of the number of gueses\n",
        "\n",
        "- Add another loop so that the game can be played a set number of times\n",
        "\n",
        "- Save all the number of guesses to a list, and tell the user what the best score is.\n",
        "\n",
        "- Add a second death number that the user is trying to avoid, and if the user guesses that number the game is over.\n",
        "\n",
        "- Add a function for code that you re-use often, like getting user input or generating the random number\n"
      ]
    }
  ]
}