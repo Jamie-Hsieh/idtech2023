{
  "nbformat": 4,
  "nbformat_minor": 0,
  "metadata": {
    "colab": {
      "name": "1.4_Story_Challenge.ipynb",
      "provenance": [],
      "include_colab_link": true
    },
    "kernelspec": {
      "name": "python3",
      "display_name": "Python 3"
    },
    "language_info": {
      "name": "python"
    }
  },
  "cells": [
    {
      "cell_type": "markdown",
      "metadata": {
        "id": "view-in-github",
        "colab_type": "text"
      },
      "source": [
        "<a href=\"https://colab.research.google.com/github/Jamie-Hsieh/idtech2023/blob/main/1_4_Story_Challenge.ipynb\" target=\"_parent\"><img src=\"https://colab.research.google.com/assets/colab-badge.svg\" alt=\"Open In Colab\"/></a>"
      ]
    },
    {
      "cell_type": "markdown",
      "metadata": {
        "id": "pmgS0fuOYTwM"
      },
      "source": [
        "#Story Challenge\n",
        "\n",
        "In this notebook you will create a story that prints out to the user. You can use multiple print statements or one huge one, it's up to you!"
      ]
    },
    {
      "cell_type": "code",
      "metadata": {
        "id": "uwHRylCsYDFQ"
      },
      "source": [
        "# Add your story code here:\n",
        "print(\"Once upon a time\")\n",
        "print(\"the end\")\n"
      ],
      "execution_count": null,
      "outputs": []
    },
    {
      "cell_type": "markdown",
      "metadata": {
        "id": "TpoPxHD2Yr4H"
      },
      "source": [
        "###Bonus Challenge\n",
        "\n",
        "If you want to step up your story, use user input and variables to create a mad libs style project.\n",
        "\n",
        "Get some verbs, nouns, adjectives, and names from the user and insert them into your story.\n"
      ]
    },
    {
      "cell_type": "code",
      "metadata": {
        "id": "ySlrVAXZY_Oh",
        "outputId": "e9749dbd-c5f6-4866-d241-f2cca8c08acb",
        "colab": {
          "base_uri": "https://localhost:8080/"
        }
      },
      "source": [
        "# Get user input for the placeholder words. Make sure to save them to variables!\n",
        "name = input(\"name:\\n\")\n",
        "personality = input(\"personality:\\n\")\n",
        "home = input(\"home:\\n\")\n",
        "school = input(\"school:\\n\")\n",
        "teacher = input(\"teacher:\\n\")\n",
        "\n",
        "print(\"Once upon a time, there was a person named \" + name + \". \" + name + \" was a \" + personality + \" person.\" + name + \" lived in \" + home + \". Then, \" + name + \" was abducted by aliens.\")\n",
        "print(teacher + \" wondered where \" + name + \" went because \" + name + \" was late to class. \" + teacher + \" notified \" + school + \" but \" + name + \" was nowhere to be found.\")\n",
        "print(\"the end.\")\n",
        "# Print out the updated story using the input from the user.\n",
        "\n"
      ],
      "execution_count": 4,
      "outputs": [
        {
          "output_type": "stream",
          "name": "stdout",
          "text": [
            "name:\n",
            "Jamie\n",
            "personality:\n",
            "Sad\n",
            "home:\n",
            "Mars\n",
            "school:\n",
            "IHS\n",
            "teacher:\n",
            "Sparkle\n",
            "Once upon a time, there was a person named Jamie. Jamie was a Sad person.Jamie lived in Mars. Then, Jamie was abducted by aliens.\n",
            "Sparkle wondered where Jamie went because Jamie was late to class. Sparkle notified IHS but Jamie was nowhere to be found.\n",
            "the end.\n"
          ]
        }
      ]
    },
    {
      "cell_type": "markdown",
      "metadata": {
        "id": "n3cMjYJqiM_h"
      },
      "source": [
        "###Extra Bonus Challenge\n",
        "\n",
        "Create a choose your own adventure story that gets user input to choose a path through the story. Use conditionals to print different stories depending on what the user wants to do."
      ]
    }
  ]
}